{
 "cells": [
  {
   "cell_type": "code",
   "execution_count": 2,
   "id": "6dd58421-4642-43c6-a48a-ba236f4b01d3",
   "metadata": {},
   "outputs": [],
   "source": [
    "import nibabel as nib\n",
    "import scipy\n",
    "import io\n",
    "import os\n",
    "import random\n",
    "import math\n",
    "import numpy as np\n",
    "from skimage.transform import resize\n",
    "import glob\n",
    "import pickle\n",
    "import matplotlib.pyplot as plt\n",
    "from scipy import ndimage\n",
    "from tqdm.notebook import tqdm\n",
    "import torch\n",
    "from scipy import stats\n",
    "from monai.networks.nets import unet\n",
    "from torch.utils.data import DataLoader, Dataset\n",
    "import csv\n",
    "import pandas as pd\n",
    "\n",
    "manualSeed = 999\n",
    "random.seed(manualSeed)\n",
    "torch.manual_seed(manualSeed)\n",
    "\n",
    "device = torch.device(\"cuda\" if torch.cuda.is_available() else \"cpu\")"
   ]
  },
  {
   "cell_type": "code",
   "execution_count": 3,
   "id": "1a5fe5dc-7a10-4fa8-bfa1-5ea83d381115",
   "metadata": {},
   "outputs": [
    {
     "name": "stdout",
     "output_type": "stream",
     "text": [
      "(1206, 3)\n",
      "(2681, 3)\n"
     ]
    }
   ],
   "source": [
    "with open('/scratch1/zamzam/HCP_1200.csv', 'r') as file:\n",
    "    reader = csv.reader(file)\n",
    "    next(reader)  # skip the header row\n",
    "    HCP_info = [[row[0], row[4], row[3]] for row in reader]\n",
    "HCP_info = np.array(HCP_info);\n",
    "\n",
    "df = pd.read_csv('/scratch1/zamzam/CAMCAN.csv', header=None, skiprows=1)\n",
    "CamCan_info = df.iloc[:, :3].apply(lambda x: x.str[2:] if x.name == 0 else x.str[0] if x.name == 2 else x).to_numpy()\n",
    "\n",
    "print(np.shape(HCP_info))\n",
    "print(np.shape(CamCan_info))"
   ]
  },
  {
   "cell_type": "code",
   "execution_count": 4,
   "id": "06ad580e-bb3a-4da0-8692-2b3497733fe8",
   "metadata": {},
   "outputs": [],
   "source": [
    "class CustomImageDataset(Dataset):\n",
    "    def __init__(self, img_dir, sample_number = 4, transform=None):\n",
    "        self.sample_number = sample_number\n",
    "        self.img_dir = img_dir\n",
    "        self.files = os.listdir(img_dir)\n",
    "        self.transform = transform\n",
    "\n",
    "    def __len__(self):\n",
    "        return len(self.files)\n",
    "\n",
    "    def __getitem__(self, idx):\n",
    "        img_path = os.path.join(self.img_dir, self.files[idx])\n",
    "        \n",
    "        # vol = np.load(img_path)\n",
    "        # vol = vol['data1']\n",
    "        vol = pickle.load(open(img_path, 'rb'))\n",
    "        T1, T2 = vol[0], vol[1]\n",
    "        \n",
    "        T1, T2 = T1[:, :-1, :], T2[:, :-1, :]\n",
    "        T1, T2 = resize(T1, (208, 248, 208)), resize(T2, (208, 248, 208))\n",
    "        T1, T2 = np.pad(T1, ((0,0), (4,4), (0,0)), mode='constant', constant_values=0), np.pad(T2, ((0,0), (4,4), (0,0)), mode='constant', constant_values=0)\n",
    "        \n",
    "        T1, T2 = T1.transpose((2,1,0)), T2.transpose((2,1,0))\n",
    "        \n",
    "        msk_normal = (~np.all(T1 == 0,axis=(1,2))) # Remove empty planes\n",
    "        choices = np.arange(len(msk_normal))[msk_normal]\n",
    "        \n",
    "        sample_idx = np.array(choices[2:-10:10])\n",
    "        \n",
    "        coord = sample_idx[:, np.newaxis] / T1.shape[0]\n",
    "        coord = coord - 0.5\n",
    "        \n",
    "        T1, T2 = T1[sample_idx], T2[sample_idx]\n",
    "        max_batch1, max_batch2 = T1.max(axis = 1), T2.max(axis = 1)\n",
    "        max_batch1, max_batch2 = max_batch1.max(axis = 1), max_batch2.max(axis = 1)\n",
    "        T1, T2 = T1/max_batch1.reshape((-1, 1, 1)), T2/max_batch2.reshape((-1, 1, 1))\n",
    "        T1, T2 = T1.astype(np.float32), T2.astype(np.float32)\n",
    "        \n",
    "        T1, T2 = torch.from_numpy(T1), torch.from_numpy(T2)\n",
    "        \n",
    "        return T1, T2, coord, self.files[idx]"
   ]
  },
  {
   "cell_type": "code",
   "execution_count": 5,
   "id": "96f98cdc-9e14-4036-b73a-bfe1877c11af",
   "metadata": {},
   "outputs": [],
   "source": [
    "train_dsetHCP = CustomImageDataset(img_dir='/scratch1/zamzam/HCP_nt_train')\n",
    "train_dsetCamCan = CustomImageDataset(img_dir='/scratch1/akrami/CAMCAN_nt_train')\n",
    "\n",
    "train_dset = torch.utils.data.ConcatDataset([train_dsetHCP, train_dsetCamCan])\n",
    "train_loader = DataLoader(train_dset, batch_size=1,shuffle=True,num_workers=1)\n",
    "\n",
    "val_dsetHCP = CustomImageDataset(img_dir='/scratch1/zamzam/HCP_nt_val')\n",
    "val_dsetCamCan = CustomImageDataset(img_dir='/scratch1/akrami/CAMCAN_nt_val')\n",
    "\n",
    "val_dset = torch.utils.data.ConcatDataset([val_dsetHCP, val_dsetCamCan])\n",
    "val_loader = DataLoader(val_dset, batch_size=1,shuffle=True,num_workers=1)\n",
    "\n",
    "test_dsetHCP = CustomImageDataset(img_dir='/scratch1/zamzam/HCP_nt_test')\n",
    "test_dsetCamCan = CustomImageDataset(img_dir='/scratch1/akrami/CAMCAN_nt_test')\n",
    "\n",
    "test_dset = torch.utils.data.ConcatDataset([test_dsetHCP, test_dsetCamCan])\n",
    "test_loader = DataLoader(test_dset, batch_size=1,shuffle=True,num_workers=1)"
   ]
  },
  {
   "cell_type": "code",
   "execution_count": 6,
   "id": "4e12afe7-9e7e-4605-a2ac-c3b5519c7915",
   "metadata": {},
   "outputs": [],
   "source": [
    "test_loaderHCP = DataLoader(test_dsetHCP, batch_size=1,shuffle=True,num_workers=1)\n",
    "test_loaderCamCan = DataLoader(test_dsetCamCan, batch_size=1,shuffle=True,num_workers=1)"
   ]
  },
  {
   "cell_type": "code",
   "execution_count": 7,
   "id": "0097609a-d7ab-461c-a459-b1dffcb05fe6",
   "metadata": {},
   "outputs": [],
   "source": [
    "trainHCP = os.listdir('/scratch1/zamzam/HCP_nt_train')\n",
    "for i in range(len(trainHCP)):\n",
    "    trainHCP[i] = trainHCP[i][:-3]\n",
    "trainCamCan = os.listdir('/scratch1/akrami/CAMCAN_nt_train')\n",
    "for i in range(len(trainCamCan)):\n",
    "    trainCamCan[i] = trainCamCan[i][6:-3]\n",
    "    \n",
    "trainHCP = np.array(trainHCP).reshape(-1, 1)\n",
    "trainHCP = np.hstack((trainHCP, np.array(['A'] * len(trainHCP)).reshape(-1, 1)))\n",
    "\n",
    "trainCamCan = np.array(trainCamCan).reshape(-1, 1)\n",
    "trainCamCan = np.hstack((trainCamCan,  np.array(['A'] * len(trainCamCan)).reshape(-1, 1)))\n",
    "\n",
    "for i in range(len(trainHCP)):\n",
    "    for j in range(len(HCP_info)):\n",
    "        if trainHCP[i,0] == HCP_info[j,0]:\n",
    "            trainHCP[i,1] = HCP_info[j,2]\n",
    "            break\n",
    "for i in range(len(trainCamCan)):\n",
    "    for j in range(len(CamCan_info)):\n",
    "        if trainCamCan[i,0][:] == CamCan_info[j,0]:\n",
    "            trainCamCan[i,1] = CamCan_info[j,2]\n",
    "            break\n",
    "            "
   ]
  },
  {
   "cell_type": "code",
   "execution_count": 8,
   "id": "5ac13e48-b3dc-446b-bbe9-37bd5adff1c4",
   "metadata": {},
   "outputs": [
    {
     "name": "stdout",
     "output_type": "stream",
     "text": [
      "[[357 422]\n",
      " [223 234]]\n",
      "[[0.2011057  0.1701297 ]\n",
      " [0.32194949 0.30681511]]\n"
     ]
    }
   ],
   "source": [
    "confusion_matrix = [[0,0],[0,0]]\n",
    "confusion_matrix = np.array(confusion_matrix)\n",
    "for i in range(len(trainHCP)):\n",
    "    if trainHCP[i,1]=='M':\n",
    "        confusion_matrix[0,0]+=1\n",
    "    if trainHCP[i,1]=='F':\n",
    "        confusion_matrix[0,1]+=1\n",
    "        \n",
    "for i in range(len(trainCamCan)):\n",
    "    if trainCamCan[i,1]=='M':\n",
    "        confusion_matrix[1,0]+=1\n",
    "    if trainCamCan[i,1]=='F':\n",
    "        confusion_matrix[1,1]+=1\n",
    "        \n",
    "\n",
    "ratios = np.sum(confusion_matrix)/confusion_matrix\n",
    "ratios = ratios/np.sum(ratios)\n",
    "print(confusion_matrix)\n",
    "print(ratios)"
   ]
  },
  {
   "cell_type": "code",
   "execution_count": 9,
   "id": "04de1074-478d-4644-8ca6-0eb1a0c00920",
   "metadata": {},
   "outputs": [],
   "source": [
    "model = unet.UNet(\n",
    "    spatial_dims=2,\n",
    "    in_channels=1,\n",
    "    out_channels=1,\n",
    "    channels=(16, 32, 64, 128, 256),\n",
    "    strides=(2, 2, 2, 2),\n",
    "    num_res_units=3).to(device)\n",
    "\n",
    "optimizer = torch.optim.Adam(model.parameters(), 1e-4)\n",
    "loss = torch.nn.MSELoss(reduction='none')"
   ]
  },
  {
   "cell_type": "code",
   "execution_count": 10,
   "id": "b5122911-a2f2-4b94-ac3d-8c93502df0cb",
   "metadata": {},
   "outputs": [
    {
     "name": "stdout",
     "output_type": "stream",
     "text": [
      "2411009\n"
     ]
    }
   ],
   "source": [
    "def count_parameters(model):\n",
    "    return sum(p.numel() for p in model.parameters() if p.requires_grad)\n",
    "print(count_parameters(model))"
   ]
  },
  {
   "cell_type": "code",
   "execution_count": 11,
   "id": "c46de441-3232-4997-96e0-5482531f6e62",
   "metadata": {},
   "outputs": [],
   "source": [
    "model.load_state_dict(torch.load(\"/home1/zamzam/Fairness/modelsDifference/model9.pth\"))\n",
    "model.eval();"
   ]
  },
  {
   "cell_type": "code",
   "execution_count": null,
   "id": "b9df0a0a-81e4-46f2-9429-3d0cddeabc36",
   "metadata": {},
   "outputs": [],
   "source": [
    "male, female = [], []\n",
    "for i, data in enumerate(tqdm(train_loader)):\n",
    "    T1, T2, s, _, _ = data\n",
    "    num = torch.sum(T1[0] != 0, dim=(1, 2))\n",
    "    ratio = num.float()/(256 * 208)\n",
    "    if s[0]=='M':\n",
    "        male.append(ratio.mean())\n",
    "    else:\n",
    "        female.append(ratio.mean())"
   ]
  },
  {
   "cell_type": "code",
   "execution_count": null,
   "id": "699d1788-6ed1-4e05-8c3a-dd9f3b061a6a",
   "metadata": {},
   "outputs": [],
   "source": [
    "plt.figure(figsize=(8, 6))\n",
    "\n",
    "# Boxplot\n",
    "bp = plt.boxplot([male, female], patch_artist=True, notch=True, vert=True)\n",
    "\n",
    "# Box color and linewidth\n",
    "colors = ['lightblue', 'pink']\n",
    "for patch, color in zip(bp['boxes'], colors):\n",
    "    patch.set_facecolor(color)\n",
    "    patch.set_linewidth(2)\n",
    "\n",
    "# Outlier color and marker\n",
    "for patch in bp['fliers']:\n",
    "    patch.set(marker='o', color='black', alpha=0.5)\n",
    "\n",
    "# Y-axis label and tick labels\n",
    "plt.xticks([1, 2], ['Males', 'Females'], fontsize=16)\n",
    "plt.xlabel('', fontsize=18)\n",
    "\n",
    "# X-axis label and tick labels\n",
    "plt.yticks(fontsize=14)\n",
    "plt.ylabel('Normalize Brain Volume', fontsize=18)\n",
    "\n",
    "# Title\n",
    "plt.title('Box Plot of Brain Volumes', fontsize=20);\n",
    "plt.grid(True)"
   ]
  },
  {
   "cell_type": "code",
   "execution_count": null,
   "id": "02261376-f6df-4047-9482-d2abe281a2ea",
   "metadata": {},
   "outputs": [],
   "source": [
    "HCP_loss = []\n",
    "for i, data in enumerate(tqdm(test_loaderHCP)):\n",
    "\n",
    "\n",
    "    T1, T2, _, name = data\n",
    "    name = name[0][:-3]\n",
    "    T1, T2 = T1.swapaxes(0,1), T2.swapaxes(0,1)\n",
    "    T1, T2 = T1.to(device), T2.to(device)\n",
    "\n",
    "    output = model(T1)\n",
    "\n",
    "    mse = torch.mean(torch.mean(loss(output, T2), dim=(1, 2, 3), keepdim=True)*(208*256)/torch.sum((T1!=0).float(), dim=(1, 2, 3), keepdim=True))\n",
    "\n",
    "    HCP_loss.append([name, mse.cpu().item()])"
   ]
  },
  {
   "cell_type": "code",
   "execution_count": 22,
   "id": "0b861a5b-17d9-4ba3-8b12-32fe90bc6516",
   "metadata": {},
   "outputs": [
    {
     "data": {
      "application/json": {
       "ascii": false,
       "bar_format": null,
       "colour": null,
       "elapsed": 0.01805424690246582,
       "initial": 0,
       "n": 0,
       "ncols": null,
       "nrows": null,
       "postfix": null,
       "prefix": "",
       "rate": null,
       "total": 131,
       "unit": "it",
       "unit_divisor": 1000,
       "unit_scale": false
      },
      "application/vnd.jupyter.widget-view+json": {
       "model_id": "dce72b2dea004795bb20eab4c38ffa60",
       "version_major": 2,
       "version_minor": 0
      },
      "text/plain": [
       "  0%|          | 0/131 [00:00<?, ?it/s]"
      ]
     },
     "metadata": {},
     "output_type": "display_data"
    }
   ],
   "source": [
    "CamCan_loss = []\n",
    "for i, data in enumerate(tqdm(test_loaderCamCan)):\n",
    "\n",
    "\n",
    "    T1, T2, _, name = data\n",
    "    name = name[0][6:-3]\n",
    "    T1, T2 = T1.swapaxes(0,1), T2.swapaxes(0,1)\n",
    "    T1, T2 = T1.to(device), T2.to(device)\n",
    "\n",
    "    output = model(T1)\n",
    "    \n",
    "    mse = torch.mean(torch.mean(loss(output, T2), dim=(1, 2, 3), keepdim=True)*(208*256)/torch.sum((T1!=0).float(), dim=(1, 2, 3), keepdim=True))\n",
    "\n",
    "    CamCan_loss.append([name, mse.cpu().item()])"
   ]
  },
  {
   "cell_type": "code",
   "execution_count": 23,
   "id": "3bf9da10-113b-4373-b644-6a64a0263219",
   "metadata": {},
   "outputs": [],
   "source": [
    "HCP_loss = np.array(HCP_loss);\n",
    "CamCan_loss = np.array(CamCan_loss);"
   ]
  },
  {
   "cell_type": "code",
   "execution_count": 24,
   "id": "55920f8d-524a-4b72-9c40-99183923278a",
   "metadata": {},
   "outputs": [
    {
     "data": {
      "image/png": "[encoded data removed]",
      "text/plain": [
       "<Figure size 576x432 with 1 Axes>"
      ]
     },
     "metadata": {
      "needs_background": "light"
     },
     "output_type": "display_data"
    }
   ],
   "source": [
    "plt.figure(figsize=(8, 6))\n",
    "\n",
    "# Boxplot\n",
    "bp = plt.boxplot([HCP_loss[:, 1].astype(float), CamCan_loss[:, 1].astype(float)], patch_artist=True, notch=True, vert=True)\n",
    "\n",
    "# Box color and linewidth\n",
    "colors = ['lightblue', 'pink']\n",
    "for patch, color in zip(bp['boxes'], colors):\n",
    "    patch.set_facecolor(color)\n",
    "    patch.set_linewidth(2)\n",
    "\n",
    "# Outlier color and marker\n",
    "for patch in bp['fliers']:\n",
    "    patch.set(marker='o', color='black', alpha=0.5)\n",
    "\n",
    "# Y-axis label and tick labels\n",
    "plt.xticks([1, 2], ['HCP', 'CamCan'], fontsize=16)\n",
    "plt.xlabel('', fontsize=18)\n",
    "\n",
    "# X-axis label and tick labels\n",
    "plt.yticks(fontsize=14)\n",
    "plt.ylabel('Loss Values', fontsize=18)\n",
    "\n",
    "# Title\n",
    "plt.title('Box Plot of Losses', fontsize=20);\n",
    "plt.grid(True)"
   ]
  },
  {
   "cell_type": "code",
   "execution_count": 25,
   "id": "8ad5d7f8-563b-4e94-8147-94b43b8398c0",
   "metadata": {},
   "outputs": [
    {
     "name": "stdout",
     "output_type": "stream",
     "text": [
      "T-Statistic: -12.223717905793249\n",
      "P-Value: 2.6409497782795975e-25\n"
     ]
    }
   ],
   "source": [
    "t_statistic, p_value = stats.ttest_ind(HCP_loss[:, 1].astype(float), CamCan_loss[:, 1].astype(float), equal_var=False)\n",
    "\n",
    "# Print the results\n",
    "print(\"T-Statistic:\", t_statistic)\n",
    "print(\"P-Value:\", p_value)"
   ]
  },
  {
   "cell_type": "code",
   "execution_count": 26,
   "id": "7b88845d-31fa-4e24-b352-76369086c712",
   "metadata": {},
   "outputs": [
    {
     "name": "stdout",
     "output_type": "stream",
     "text": [
      "number of HCP training samples:  779  and number of CamCan training samples:  457\n"
     ]
    }
   ],
   "source": [
    "trainHCP = os.listdir('/scratch1/zamzam/HCP_nt_train')\n",
    "trainCamCan = os.listdir('/scratch1/akrami/CAMCAN_nt_train')\n",
    "\n",
    "print('number of HCP training samples: ', len(trainHCP), ' and number of CamCan training samples: ', len(trainCamCan))"
   ]
  },
  {
   "cell_type": "code",
   "execution_count": 16,
   "id": "8c986c27-dd08-4d68-939f-de2107383994",
   "metadata": {},
   "outputs": [
    {
     "data": {
      "image/png": "[encoded data removed]",
      "text/plain": [
       "<Figure size 576x216 with 3 Axes>"
      ]
     },
     "metadata": {},
     "output_type": "display_data"
    }
   ],
   "source": [
    "s = next(iter(test_loaderHCP))\n",
    "T1, T2, _, _ = s\n",
    "T1, T2 = T1.swapaxes(0,1), T2.swapaxes(0,1)\n",
    "T1, T2 = T1.to(device), T2.to(device)\n",
    "\n",
    "model.load_state_dict(torch.load(\"/home1/zamzam/Fairness/modelsDifference/model1.pth\"))\n",
    "output = model(T1)\n",
    "\n",
    "\n",
    "\n",
    "fig, axes = plt.subplots(ncols=3, figsize=(8, 3))\n",
    "fig.suptitle('HCP', fontsize=16)\n",
    "\n",
    "# plot each image on a subplot with a title\n",
    "axes[0].imshow(T1[2][0].cpu(), cmap='gray')\n",
    "axes[0].set_title('Input (T1)')\n",
    "axes[1].imshow(T2[2][0].cpu(), cmap='gray')\n",
    "axes[1].set_title('Groundtruth (T2)')\n",
    "axes[2].imshow(output[2][0].cpu().detach().numpy(), cmap='gray')\n",
    "axes[2].set_title('Image 3')\n",
    "\n",
    "# remove the axis ticks and labels\n",
    "for ax in axes:\n",
    "    ax.set_xticks([])\n",
    "    ax.set_yticks([])\n",
    "    ax.set_xticklabels([])\n",
    "    ax.set_yticklabels([])\n",
    "\n",
    "# adjust the layout\n",
    "plt.tight_layout()\n",
    "\n",
    "# show the plot\n",
    "plt.show()"
   ]
  },
  {
   "cell_type": "code",
   "execution_count": 28,
   "id": "7ed86f31-caca-4866-9be6-bcd88601aeae",
   "metadata": {},
   "outputs": [
    {
     "data": {
      "image/png": "[encoded data removed]",
      "text/plain": [
       "<Figure size 576x216 with 3 Axes>"
      ]
     },
     "metadata": {},
     "output_type": "display_data"
    }
   ],
   "source": [
    "s = next(iter(test_loaderCamCan))\n",
    "T1, T2, _, _ = s\n",
    "T1, T2 = T1.swapaxes(0,1), T2.swapaxes(0,1)\n",
    "T1, T2 = T1.to(device), T2.to(device)\n",
    "\n",
    "model.load_state_dict(torch.load(\"/home1/zamzam/Fairness/models/model96.pth\"))\n",
    "output = model(T1)\n",
    "\n",
    "\n",
    "\n",
    "fig, axes = plt.subplots(ncols=3, figsize=(8, 3))\n",
    "fig.suptitle('CAMCAN', fontsize=16)\n",
    "\n",
    "# plot each image on a subplot with a title\n",
    "axes[0].imshow(T1[2][0].cpu(), cmap='gray')\n",
    "axes[0].set_title('Input (T1)')\n",
    "axes[1].imshow(T2[2][0].cpu(), cmap='gray')\n",
    "axes[1].set_title('Groundtruth (T2)')\n",
    "axes[2].imshow(output[2][0].cpu().detach().numpy(), cmap='gray')\n",
    "axes[2].set_title('Image 3')\n",
    "\n",
    "# remove the axis ticks and labels\n",
    "for ax in axes:\n",
    "    ax.set_xticks([])\n",
    "    ax.set_yticks([])\n",
    "    ax.set_xticklabels([])\n",
    "    ax.set_yticklabels([])\n",
    "\n",
    "# adjust the layout\n",
    "plt.tight_layout()\n",
    "\n",
    "# show the plot\n",
    "plt.show()"
   ]
  },
  {
   "cell_type": "code",
   "execution_count": 29,
   "id": "ab2a55e2-eba6-42f6-9317-23c89f1913be",
   "metadata": {},
   "outputs": [],
   "source": [
    "HCP_loss = np.hstack((HCP_loss, np.empty((len(HCP_loss), 1), dtype='U1')))\n",
    "for i in range(len(HCP_loss)):\n",
    "    for j in range(len(HCP_info)):\n",
    "        if HCP_loss[i, 0] == HCP_info[j, 0]:\n",
    "            HCP_loss[i, 2] = HCP_info[j, 2]\n",
    "            break\n",
    "            \n",
    "CamCan_loss = np.hstack((CamCan_loss, np.empty((len(CamCan_loss), 1), dtype='U1')))\n",
    "for i in range(len(CamCan_loss)):\n",
    "    for j in range(len(CamCan_info)):\n",
    "        if CamCan_loss[i, 0] == CamCan_info[j, 0]:\n",
    "            CamCan_loss[i, 2] = CamCan_info[j, 2]\n",
    "            break"
   ]
  },
  {
   "cell_type": "code",
   "execution_count": 30,
   "id": "f91fc828-5b2c-41e3-9157-7ba34731b8be",
   "metadata": {},
   "outputs": [],
   "source": [
    "gender_loss = np.concatenate((HCP_loss, CamCan_loss), axis=0)\n",
    "gender_loss = gender_loss[:,1:]"
   ]
  },
  {
   "cell_type": "code",
   "execution_count": 31,
   "id": "a3ae8ef2-a941-4ca3-960b-ba3f9ea13b4c",
   "metadata": {},
   "outputs": [],
   "source": [
    "male_loss = gender_loss[gender_loss[:,1]=='M', 0]\n",
    "female_loss = gender_loss[gender_loss[:,1]=='F', 0]"
   ]
  },
  {
   "cell_type": "code",
   "execution_count": 32,
   "id": "3943e25c-bbf3-4f8b-95d8-e71e279caad3",
   "metadata": {},
   "outputs": [
    {
     "data": {
      "image/png": "[encoded data removed]",
      "text/plain": [
       "<Figure size 576x432 with 1 Axes>"
      ]
     },
     "metadata": {
      "needs_background": "light"
     },
     "output_type": "display_data"
    }
   ],
   "source": [
    "plt.figure(figsize=(8, 6))\n",
    "\n",
    "# Boxplot\n",
    "bp = plt.boxplot([male_loss.astype(float), female_loss.astype(float)], patch_artist=True, notch=True, vert=True)\n",
    "\n",
    "# Box color and linewidth\n",
    "colors = ['lightblue', 'pink']\n",
    "for patch, color in zip(bp['boxes'], colors):\n",
    "    patch.set_facecolor(color)\n",
    "    patch.set_linewidth(2)\n",
    "\n",
    "# Outlier color and marker\n",
    "for patch in bp['fliers']:\n",
    "    patch.set(marker='o', color='black', alpha=0.5)\n",
    "\n",
    "# Y-axis label and tick labels\n",
    "plt.xticks([1, 2], ['Males', 'Females'], fontsize=16)\n",
    "plt.xlabel('', fontsize=18)\n",
    "\n",
    "# X-axis label and tick labels\n",
    "plt.yticks(fontsize=14)\n",
    "plt.ylabel('Loss Values', fontsize=18)\n",
    "\n",
    "# Title\n",
    "plt.title('Box Plot of Losses', fontsize=20);\n",
    "plt.grid(True);"
   ]
  },
  {
   "cell_type": "code",
   "execution_count": 33,
   "id": "538c7bae-a87e-4b86-87f9-d9dc1e58b825",
   "metadata": {},
   "outputs": [
    {
     "name": "stdout",
     "output_type": "stream",
     "text": [
      "T-Statistic: 3.174595989313996\n",
      "P-Value: 0.001644112999292903\n"
     ]
    }
   ],
   "source": [
    "t_statistic, p_value = stats.ttest_ind(male_loss.astype(float), female_loss.astype(float), equal_var=False)\n",
    "\n",
    "# Print the results\n",
    "print(\"T-Statistic:\", t_statistic)\n",
    "print(\"P-Value:\", p_value)"
   ]
  },
  {
   "cell_type": "code",
   "execution_count": 34,
   "id": "f94d4b5f-03ec-4dd7-abbc-b3c16b5acde6",
   "metadata": {},
   "outputs": [
    {
     "name": "stdout",
     "output_type": "stream",
     "text": [
      "number of males:  580  and number of females:  656\n"
     ]
    }
   ],
   "source": [
    "trainHCP = os.listdir('/scratch1/zamzam/HCP_nt_train')\n",
    "for i in range(len(trainHCP)):\n",
    "    trainHCP[i] = trainHCP[i][:-3]\n",
    "trainCamCan = os.listdir('/scratch1/akrami/CAMCAN_nt_train')\n",
    "for i in range(len(trainCamCan)):\n",
    "    trainCamCan[i] = trainCamCan[i][:-3]\n",
    "\n",
    "for i in range(len(trainHCP)):\n",
    "    for j in range(len(HCP_info)):\n",
    "        if trainHCP[i] == HCP_info[j,0]:\n",
    "            trainHCP[i] = HCP_info[j,2]\n",
    "            break\n",
    "for i in range(len(trainCamCan)):\n",
    "    for j in range(len(CamCan_info)):\n",
    "        if trainCamCan[i][6:] == CamCan_info[j,0]:\n",
    "            trainCamCan[i] = CamCan_info[j,2]\n",
    "            break\n",
    "\n",
    "train = trainHCP + trainCamCan\n",
    "m = 0\n",
    "f = 0\n",
    "for i in range (len(train)):\n",
    "    if train[i] == 'M':\n",
    "        m+=1\n",
    "    if train[i] == 'F':\n",
    "        f+=1\n",
    "print('number of males: ', m, ' and number of females: ', f)"
   ]
  },
  {
   "cell_type": "code",
   "execution_count": 35,
   "id": "e5812454-7c31-49ef-a6fc-1584ac55e7ad",
   "metadata": {},
   "outputs": [],
   "source": [
    "CamCan_loss = CamCan_loss[:,0:2]\n",
    "CamCan_loss = np.hstack((CamCan_loss, np.empty((len(CamCan_loss), 1), dtype=np.float64)))\n",
    "for i in range(len(CamCan_loss)):\n",
    "    for j in range(len(CamCan_info)):\n",
    "        if CamCan_loss[i, 0] == CamCan_info[j, 0]:\n",
    "            CamCan_loss[i, 2] = int(float(CamCan_info[j, 1])>50)\n",
    "            break"
   ]
  },
  {
   "cell_type": "code",
   "execution_count": 36,
   "id": "3dcf262d-39c4-4c52-b5d6-5bffa4ca3010",
   "metadata": {},
   "outputs": [],
   "source": [
    "old_loss = CamCan_loss[CamCan_loss[:,2]=='1',1]\n",
    "young_loss = CamCan_loss[CamCan_loss[:,2]=='0',1]"
   ]
  },
  {
   "cell_type": "code",
   "execution_count": 37,
   "id": "a5289325-62cd-4822-82aa-01070ba8e514",
   "metadata": {},
   "outputs": [
    {
     "data": {
      "image/png": "[encoded data removed]",
      "text/plain": [
       "<Figure size 576x432 with 1 Axes>"
      ]
     },
     "metadata": {
      "needs_background": "light"
     },
     "output_type": "display_data"
    }
   ],
   "source": [
    "plt.figure(figsize=(8, 6))\n",
    "\n",
    "# Boxplot\n",
    "bp = plt.boxplot([old_loss.astype(float), young_loss.astype(float)], patch_artist=True, notch=True, vert=True)\n",
    "\n",
    "# Box color and linewidth\n",
    "colors = ['lightblue', 'pink']\n",
    "for patch, color in zip(bp['boxes'], colors):\n",
    "    patch.set_facecolor(color)\n",
    "    patch.set_linewidth(2)\n",
    "\n",
    "# Outlier color and marker\n",
    "for patch in bp['fliers']:\n",
    "    patch.set(marker='o', color='black', alpha=0.5)\n",
    "\n",
    "# Y-axis label and tick labels\n",
    "plt.xticks([1, 2], ['Older than 50', 'Younger than 50'], fontsize=16)\n",
    "plt.xlabel('', fontsize=18)\n",
    "\n",
    "# X-axis label and tick labels\n",
    "plt.yticks(fontsize=14)\n",
    "plt.ylabel('Loss Values', fontsize=18)\n",
    "\n",
    "# Title\n",
    "plt.title('Box Plot of Losses', fontsize=20);\n",
    "plt.grid(True);"
   ]
  },
  {
   "cell_type": "code",
   "execution_count": 38,
   "id": "e9c5ccf0-7fb6-4d2e-b277-a8142e6fc0e1",
   "metadata": {},
   "outputs": [
    {
     "name": "stdout",
     "output_type": "stream",
     "text": [
      "T-Statistic: 4.834394549626112\n",
      "P-Value: 3.822270267912646e-06\n"
     ]
    }
   ],
   "source": [
    "t_statistic, p_value = stats.ttest_ind(old_loss.astype(float), young_loss.astype(float), equal_var=False)\n",
    "\n",
    "# Print the results\n",
    "print(\"T-Statistic:\", t_statistic)\n",
    "print(\"P-Value:\", p_value)"
   ]
  },
  {
   "cell_type": "code",
   "execution_count": null,
   "id": "4b08663b-23c7-46b5-9895-af84ce8a889d",
   "metadata": {},
   "outputs": [],
   "source": []
  },
  {
   "cell_type": "code",
   "execution_count": null,
   "id": "64fcf6b9-59f3-4ef3-81dd-ad5e042b5443",
   "metadata": {},
   "outputs": [],
   "source": [
    "for epoch in range(1000):\n",
    "    total_loss = 0\n",
    "    for i, data in enumerate(tqdm(train_loader)):\n",
    "        \n",
    "        optimizer.zero_grad()\n",
    "        \n",
    "        T1, T2, _, _ = data\n",
    "        T1, T2 = T1.swapaxes(0,1), T2.swapaxes(0,1)\n",
    "        T1, T2 = T1.to(device), T2.to(device)\n",
    "        \n",
    "        output = model(T1)\n",
    "        \n",
    "        mse = loss(output, T2)\n",
    "        \n",
    "        mse.backward()\n",
    "        \n",
    "        optimizer.step()\n",
    "        \n",
    "        total_loss += mse\n",
    "        \n",
    "    print('  * train  ' +\n",
    "    f'Loss: {total_loss/len(train_dset):.7f}, ')\n",
    "    \n",
    "    total_loss = 0\n",
    "        \n",
    "    for i, data in enumerate(tqdm(val_loader)):\n",
    "        with torch.no_grad():\n",
    "            T1, T2, _, _ = data\n",
    "            T1, T2 = T1.swapaxes(0,1), T2.swapaxes(0,1)\n",
    "            T1, T2 = T1.to(device), T2.to(device)\n",
    "\n",
    "            output = model(T1)\n",
    "\n",
    "            mse = loss(output, T2)\n",
    "            \n",
    "            total_loss += mse\n",
    "            \n",
    "    print('  * val  ' +\n",
    "    f'Loss: {total_loss/len(val_dset):.7f}, ')"
   ]
  },
  {
   "cell_type": "code",
   "execution_count": null,
   "id": "bcc46413-f08e-44d1-bdd0-c2cde51ffac0",
   "metadata": {},
   "outputs": [],
   "source": []
  }
 ],
 "metadata": {
  "kernelspec": {
   "display_name": "Python 3.9.2",
   "language": "python",
   "name": "py392"
  },
  "language_info": {
   "codemirror_mode": {
    "name": "ipython",
    "version": 3
   },
   "file_extension": ".py",
   "mimetype": "text/x-python",
   "name": "python",
   "nbconvert_exporter": "python",
   "pygments_lexer": "ipython3",
   "version": "3.9.2"
  }
 },
 "nbformat": 4,
 "nbformat_minor": 5
}
