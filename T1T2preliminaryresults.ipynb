{
 "cells": [
  {
   "cell_type": "code",
   "execution_count": 2,
   "id": "6dd58421-4642-43c6-a48a-ba236f4b01d3",
   "metadata": {},
   "outputs": [],
   "source": [
    "import nibabel as nib\n",
    "import io\n",
    "import os\n",
    "import random\n",
    "import math\n",
    "import numpy as np\n",
    "from skimage.transform import resize\n",
    "import glob\n",
    "import pickle\n",
    "import matplotlib.pyplot as plt\n",
    "from scipy import ndimage\n",
    "from tqdm.notebook import tqdm\n",
    "import torch\n",
    "from scipy import stats\n",
    "from monai.networks.nets import unet\n",
    "from torch.utils.data import DataLoader, Dataset\n",
    "import csv\n",
    "import pandas as pd\n",
    "\n",
    "manualSeed = 999\n",
    "random.seed(manualSeed)\n",
    "torch.manual_seed(manualSeed)\n",
    "\n",
    "device = torch.device(\"cuda\" if torch.cuda.is_available() else \"cpu\")"
   ]
  },
  {
   "cell_type": "code",
   "execution_count": 329,
   "id": "06ad580e-bb3a-4da0-8692-2b3497733fe8",
   "metadata": {},
   "outputs": [],
   "source": [
    "class CustomImageDataset(Dataset):\n",
    "    def __init__(self, img_dir, sample_number = 4, transform=None):\n",
    "        self.sample_number = sample_number\n",
    "        self.img_dir = img_dir\n",
    "        self.files = os.listdir(img_dir)\n",
    "        self.transform = transform\n",
    "\n",
    "    def __len__(self):\n",
    "        return len(self.files)\n",
    "\n",
    "    def __getitem__(self, idx):\n",
    "        img_path = os.path.join(self.img_dir, self.files[idx])\n",
    "        \n",
    "        # vol = np.load(img_path)\n",
    "        # vol = vol['data1']\n",
    "        vol = pickle.load(open(img_path, 'rb'))\n",
    "        T1, T2 = vol[0], vol[1]\n",
    "        \n",
    "        T1, T2 = T1[:, :-1, :], T2[:, :-1, :]\n",
    "        T1, T2 = resize(T1, (208, 248, 208)), resize(T2, (208, 248, 208))\n",
    "        T1, T2 = np.pad(T1, ((0,0), (4,4), (0,0)), mode='constant', constant_values=0), np.pad(T2, ((0,0), (4,4), (0,0)), mode='constant', constant_values=0)\n",
    "        \n",
    "        T1, T2 = T1.transpose((2,1,0)), T2.transpose((2,1,0))\n",
    "        \n",
    "        msk_normal = (~np.all(T1 == 0,axis=(1,2))) # Remove empty planes\n",
    "        choices = np.arange(len(msk_normal))[msk_normal]\n",
    "        \n",
    "        sample_idx = np.array(choices[2:-10:10])\n",
    "        \n",
    "        coord = sample_idx[:, np.newaxis] / T1.shape[0]\n",
    "        coord = coord - 0.5\n",
    "        \n",
    "        T1, T2 = T1[sample_idx], T2[sample_idx]\n",
    "        max_batch1, max_batch2 = T1.max(axis = 1), T2.max(axis = 1)\n",
    "        max_batch1, max_batch2 = max_batch1.max(axis = 1), max_batch2.max(axis = 1)\n",
    "        T1, T2 = T1/max_batch1.reshape((-1, 1, 1)), T2/max_batch2.reshape((-1, 1, 1))\n",
    "        T1, T2 = T1.astype(np.float32), T2.astype(np.float32)\n",
    "        \n",
    "        T1, T2 = torch.from_numpy(T1), torch.from_numpy(T2)\n",
    "        \n",
    "        return T1, T2, coord, self.files[idx]"
   ]
  },
  {
   "cell_type": "code",
   "execution_count": 330,
   "id": "96f98cdc-9e14-4036-b73a-bfe1877c11af",
   "metadata": {},
   "outputs": [],
   "source": [
    "train_dsetHCP = CustomImageDataset(img_dir='/scratch1/zamzam/HCP_nt_train')\n",
    "train_dsetCamCan = CustomImageDataset(img_dir='/scratch1/akrami/CAMCAN_nt_train')\n",
    "\n",
    "train_dset = torch.utils.data.ConcatDataset([train_dsetHCP, train_dsetCamCan])\n",
    "train_loader = DataLoader(train_dset, batch_size=1,shuffle=True,num_workers=1)\n",
    "\n",
    "val_dsetHCP = CustomImageDataset(img_dir='/scratch1/zamzam/HCP_nt_val')\n",
    "val_dsetCamCan = CustomImageDataset(img_dir='/scratch1/akrami/CAMCAN_nt_val')\n",
    "\n",
    "val_dset = torch.utils.data.ConcatDataset([val_dsetHCP, val_dsetCamCan])\n",
    "val_loader = DataLoader(val_dset, batch_size=1,shuffle=True,num_workers=1)\n",
    "\n",
    "test_dsetHCP = CustomImageDataset(img_dir='/scratch1/zamzam/HCP_nt_test')\n",
    "test_dsetCamCan = CustomImageDataset(img_dir='/scratch1/akrami/CAMCAN_nt_test')\n",
    "\n",
    "test_dset = torch.utils.data.ConcatDataset([test_dsetHCP, test_dsetCamCan])\n",
    "test_loader = DataLoader(test_dset, batch_size=1,shuffle=True,num_workers=1)"
   ]
  },
  {
   "cell_type": "code",
   "execution_count": 331,
   "id": "4e12afe7-9e7e-4605-a2ac-c3b5519c7915",
   "metadata": {},
   "outputs": [],
   "source": [
    "test_loaderHCP = DataLoader(test_dsetHCP, batch_size=1,shuffle=True,num_workers=1)\n",
    "test_loaderCamCan = DataLoader(test_dsetCamCan, batch_size=1,shuffle=True,num_workers=1)"
   ]
  },
  {
   "cell_type": "code",
   "execution_count": 332,
   "id": "7f85a7e8-8c99-4027-be71-ed9a4718b669",
   "metadata": {},
   "outputs": [],
   "source": [
    "sample = next(iter(train_loader))"
   ]
  },
  {
   "cell_type": "code",
   "execution_count": 333,
   "id": "04de1074-478d-4644-8ca6-0eb1a0c00920",
   "metadata": {},
   "outputs": [],
   "source": [
    "model = unet.UNet(\n",
    "    spatial_dims=2,\n",
    "    in_channels=1,\n",
    "    out_channels=1,\n",
    "    channels=(16, 32, 64, 128, 256),\n",
    "    strides=(2, 2, 2, 2),\n",
    "    num_res_units=3).to(device)\n",
    "\n",
    "optimizer = torch.optim.Adam(model.parameters(), 1e-4)\n",
    "loss = torch.nn.MSELoss()"
   ]
  },
  {
   "cell_type": "code",
   "execution_count": 334,
   "id": "b5122911-a2f2-4b94-ac3d-8c93502df0cb",
   "metadata": {},
   "outputs": [
    {
     "name": "stdout",
     "output_type": "stream",
     "text": [
      "2411009\n"
     ]
    }
   ],
   "source": [
    "def count_parameters(model):\n",
    "    return sum(p.numel() for p in model.parameters() if p.requires_grad)\n",
    "print(count_parameters(model))"
   ]
  },
  {
   "cell_type": "code",
   "execution_count": 335,
   "id": "c46de441-3232-4997-96e0-5482531f6e62",
   "metadata": {},
   "outputs": [],
   "source": [
    "model.load_state_dict(torch.load(\"/home1/zamzam/Fairness/models/model96.pth\"))\n",
    "model.eval();"
   ]
  },
  {
   "cell_type": "code",
   "execution_count": 336,
   "id": "597bda11-4e1d-4442-9858-0c48295baeb4",
   "metadata": {},
   "outputs": [],
   "source": [
    "with open('/scratch1/zamzam/HCP_1200.csv', 'r') as file:\n",
    "    reader = csv.reader(file)\n",
    "    next(reader)  # skip the header row\n",
    "    HCP_info = [[row[0], row[4], row[3]] for row in reader]\n",
    "HCP_info = np.array(HCP_info);"
   ]
  },
  {
   "cell_type": "code",
   "execution_count": 337,
   "id": "eddb93cb-0b25-4d46-9088-a818c9210b10",
   "metadata": {},
   "outputs": [],
   "source": [
    "df = pd.read_csv('/scratch1/zamzam/CAMCAN.csv', header=None, skiprows=1)\n",
    "CamCan_info = df.iloc[:, :3].apply(lambda x: x.str[2:] if x.name == 0 else x.str[0] if x.name == 2 else x).to_numpy()"
   ]
  },
  {
   "cell_type": "code",
   "execution_count": 354,
   "id": "ac3f6083-d297-4310-8de9-047f54dc3bf9",
   "metadata": {},
   "outputs": [
    {
     "name": "stdout",
     "output_type": "stream",
     "text": [
      "(1206, 3)\n",
      "(2681, 3)\n"
     ]
    }
   ],
   "source": [
    "print(np.shape(HCP_info))\n",
    "print(np.shape(CamCan_info))"
   ]
  },
  {
   "cell_type": "code",
   "execution_count": 339,
   "id": "02261376-f6df-4047-9482-d2abe281a2ea",
   "metadata": {},
   "outputs": [
    {
     "data": {
      "application/json": {
       "ascii": false,
       "bar_format": null,
       "colour": null,
       "elapsed": 0.01847553253173828,
       "initial": 0,
       "n": 0,
       "ncols": null,
       "nrows": null,
       "postfix": null,
       "prefix": "",
       "rate": null,
       "total": 223,
       "unit": "it",
       "unit_divisor": 1000,
       "unit_scale": false
      },
      "application/vnd.jupyter.widget-view+json": {
       "model_id": "65f1d389f4204e298479b5da84bb04f2",
       "version_major": 2,
       "version_minor": 0
      },
      "text/plain": [
       "  0%|          | 0/223 [00:00<?, ?it/s]"
      ]
     },
     "metadata": {},
     "output_type": "display_data"
    }
   ],
   "source": [
    "HCP_loss = []\n",
    "for i, data in enumerate(tqdm(test_loaderHCP)):\n",
    "\n",
    "\n",
    "    T1, T2, _, name = data\n",
    "    name = name[0][:-3]\n",
    "    T1, T2 = T1.swapaxes(0,1), T2.swapaxes(0,1)\n",
    "    T1, T2 = T1.to(device), T2.to(device)\n",
    "\n",
    "    output = model(T1)\n",
    "\n",
    "    mse = loss(output, T2)\n",
    "\n",
    "    HCP_loss.append([name, mse.item()])"
   ]
  },
  {
   "cell_type": "code",
   "execution_count": 340,
   "id": "0b861a5b-17d9-4ba3-8b12-32fe90bc6516",
   "metadata": {},
   "outputs": [
    {
     "data": {
      "application/json": {
       "ascii": false,
       "bar_format": null,
       "colour": null,
       "elapsed": 0.016859769821166992,
       "initial": 0,
       "n": 0,
       "ncols": null,
       "nrows": null,
       "postfix": null,
       "prefix": "",
       "rate": null,
       "total": 131,
       "unit": "it",
       "unit_divisor": 1000,
       "unit_scale": false
      },
      "application/vnd.jupyter.widget-view+json": {
       "model_id": "c24d2d5d23ee4ed2be949daa74bcf161",
       "version_major": 2,
       "version_minor": 0
      },
      "text/plain": [
       "  0%|          | 0/131 [00:00<?, ?it/s]"
      ]
     },
     "metadata": {},
     "output_type": "display_data"
    }
   ],
   "source": [
    "CamCan_loss = []\n",
    "for i, data in enumerate(tqdm(test_loaderCamCan)):\n",
    "\n",
    "\n",
    "    T1, T2, _, name = data\n",
    "    name = name[0][6:-3]\n",
    "    T1, T2 = T1.swapaxes(0,1), T2.swapaxes(0,1)\n",
    "    T1, T2 = T1.to(device), T2.to(device)\n",
    "\n",
    "    output = model(T1)\n",
    "\n",
    "    mse = loss(output, T2)\n",
    "\n",
    "    CamCan_loss.append([name, mse.item()])"
   ]
  },
  {
   "cell_type": "code",
   "execution_count": 342,
   "id": "3bf9da10-113b-4373-b644-6a64a0263219",
   "metadata": {},
   "outputs": [],
   "source": [
    "HCP_loss = np.array(HCP_loss);\n",
    "CamCan_loss = np.array(CamCan_loss);"
   ]
  },
  {
   "cell_type": "code",
   "execution_count": 343,
   "id": "55920f8d-524a-4b72-9c40-99183923278a",
   "metadata": {},
   "outputs": [
    {
     "data": {
      "image/png": "[encoded data removed]",
      "text/plain": [
       "<Figure size 576x432 with 1 Axes>"
      ]
     },
     "metadata": {
      "needs_background": "light"
     },
     "output_type": "display_data"
    }
   ],
   "source": [
    "plt.figure(figsize=(8, 6))\n",
    "\n",
    "# Boxplot\n",
    "bp = plt.boxplot([HCP_loss[:, 1].astype(float), CamCan_loss[:, 1].astype(float)], patch_artist=True, notch=True, vert=True)\n",
    "\n",
    "# Box color and linewidth\n",
    "colors = ['lightblue', 'pink']\n",
    "for patch, color in zip(bp['boxes'], colors):\n",
    "    patch.set_facecolor(color)\n",
    "    patch.set_linewidth(2)\n",
    "\n",
    "# Outlier color and marker\n",
    "for patch in bp['fliers']:\n",
    "    patch.set(marker='o', color='black', alpha=0.5)\n",
    "\n",
    "# Y-axis label and tick labels\n",
    "plt.xticks([1, 2], ['HCP', 'CamCan'], fontsize=16)\n",
    "plt.xlabel('', fontsize=18)\n",
    "\n",
    "# X-axis label and tick labels\n",
    "plt.yticks(fontsize=14)\n",
    "plt.ylabel('Loss Values', fontsize=18)\n",
    "\n",
    "# Title\n",
    "plt.title('Box Plot of Losses', fontsize=20);\n",
    "plt.grid(True)"
   ]
  },
  {
   "cell_type": "code",
   "execution_count": 344,
   "id": "8ad5d7f8-563b-4e94-8147-94b43b8398c0",
   "metadata": {},
   "outputs": [
    {
     "name": "stdout",
     "output_type": "stream",
     "text": [
      "T-Statistic: -14.701729901134113\n",
      "P-Value: 7.99744023022347e-31\n"
     ]
    }
   ],
   "source": [
    "t_statistic, p_value = stats.ttest_ind(HCP_loss[:, 1].astype(float), CamCan_loss[:, 1].astype(float), equal_var=False)\n",
    "\n",
    "# Print the results\n",
    "print(\"T-Statistic:\", t_statistic)\n",
    "print(\"P-Value:\", p_value)"
   ]
  },
  {
   "cell_type": "code",
   "execution_count": 345,
   "id": "7b88845d-31fa-4e24-b352-76369086c712",
   "metadata": {},
   "outputs": [
    {
     "name": "stdout",
     "output_type": "stream",
     "text": [
      "number of HCP training samples:  779  and number of CamCan training samples:  457\n"
     ]
    }
   ],
   "source": [
    "trainHCP = os.listdir('/scratch1/zamzam/HCP_nt_train')\n",
    "trainCamCan = os.listdir('/scratch1/akrami/CAMCAN_nt_train')\n",
    "\n",
    "print('number of HCP training samples: ', len(trainHCP), ' and number of CamCan training samples: ', len(trainCamCan))"
   ]
  },
  {
   "cell_type": "code",
   "execution_count": 346,
   "id": "8c986c27-dd08-4d68-939f-de2107383994",
   "metadata": {},
   "outputs": [
    {
     "data": {
      "image/png": "[encoded data removed]",
      "text/plain": [
       "<Figure size 576x216 with 3 Axes>"
      ]
     },
     "metadata": {},
     "output_type": "display_data"
    }
   ],
   "source": [
    "s = next(iter(test_loaderHCP))\n",
    "T1, T2, _, _ = s\n",
    "T1, T2 = T1.swapaxes(0,1), T2.swapaxes(0,1)\n",
    "T1, T2 = T1.to(device), T2.to(device)\n",
    "\n",
    "model.load_state_dict(torch.load(\"/home1/zamzam/Fairness/models/model96.pth\"))\n",
    "output = model(T1)\n",
    "\n",
    "\n",
    "\n",
    "fig, axes = plt.subplots(ncols=3, figsize=(8, 3))\n",
    "fig.suptitle('HCP', fontsize=16)\n",
    "\n",
    "# plot each image on a subplot with a title\n",
    "axes[0].imshow(T1[2][0].cpu(), cmap='gray')\n",
    "axes[0].set_title('Input (T1)')\n",
    "axes[1].imshow(T2[2][0].cpu(), cmap='gray')\n",
    "axes[1].set_title('Groundtruth (T2)')\n",
    "axes[2].imshow(output[2][0].cpu().detach().numpy(), cmap='gray')\n",
    "axes[2].set_title('Image 3')\n",
    "\n",
    "# remove the axis ticks and labels\n",
    "for ax in axes:\n",
    "    ax.set_xticks([])\n",
    "    ax.set_yticks([])\n",
    "    ax.set_xticklabels([])\n",
    "    ax.set_yticklabels([])\n",
    "\n",
    "# adjust the layout\n",
    "plt.tight_layout()\n",
    "\n",
    "# show the plot\n",
    "plt.show()"
   ]
  },
  {
   "cell_type": "code",
   "execution_count": 347,
   "id": "7ed86f31-caca-4866-9be6-bcd88601aeae",
   "metadata": {},
   "outputs": [
    {
     "data": {
      "image/png": "[encoded data removed]",
      "text/plain": [
       "<Figure size 576x216 with 3 Axes>"
      ]
     },
     "metadata": {},
     "output_type": "display_data"
    }
   ],
   "source": [
    "s = next(iter(test_loaderCamCan))\n",
    "T1, T2, _, _ = s\n",
    "T1, T2 = T1.swapaxes(0,1), T2.swapaxes(0,1)\n",
    "T1, T2 = T1.to(device), T2.to(device)\n",
    "\n",
    "model.load_state_dict(torch.load(\"/home1/zamzam/Fairness/models/model96.pth\"))\n",
    "output = model(T1)\n",
    "\n",
    "\n",
    "\n",
    "fig, axes = plt.subplots(ncols=3, figsize=(8, 3))\n",
    "fig.suptitle('CAMCAN', fontsize=16)\n",
    "\n",
    "# plot each image on a subplot with a title\n",
    "axes[0].imshow(T1[2][0].cpu(), cmap='gray')\n",
    "axes[0].set_title('Input (T1)')\n",
    "axes[1].imshow(T2[2][0].cpu(), cmap='gray')\n",
    "axes[1].set_title('Groundtruth (T2)')\n",
    "axes[2].imshow(output[2][0].cpu().detach().numpy(), cmap='gray')\n",
    "axes[2].set_title('Image 3')\n",
    "\n",
    "# remove the axis ticks and labels\n",
    "for ax in axes:\n",
    "    ax.set_xticks([])\n",
    "    ax.set_yticks([])\n",
    "    ax.set_xticklabels([])\n",
    "    ax.set_yticklabels([])\n",
    "\n",
    "# adjust the layout\n",
    "plt.tight_layout()\n",
    "\n",
    "# show the plot\n",
    "plt.show()"
   ]
  },
  {
   "cell_type": "code",
   "execution_count": 348,
   "id": "ab2a55e2-eba6-42f6-9317-23c89f1913be",
   "metadata": {},
   "outputs": [],
   "source": [
    "HCP_loss = np.hstack((HCP_loss, np.empty((len(HCP_loss), 1), dtype='U1')))\n",
    "for i in range(len(HCP_loss)):\n",
    "    for j in range(len(HCP_info)):\n",
    "        if HCP_loss[i, 0] == HCP_info[j, 0]:\n",
    "            HCP_loss[i, 2] = HCP_info[j, 2]\n",
    "            break\n",
    "            \n",
    "CamCan_loss = np.hstack((CamCan_loss, np.empty((len(CamCan_loss), 1), dtype='U1')))\n",
    "for i in range(len(CamCan_loss)):\n",
    "    for j in range(len(CamCan_info)):\n",
    "        if CamCan_loss[i, 0] == CamCan_info[j, 0]:\n",
    "            CamCan_loss[i, 2] = CamCan_info[j, 2]\n",
    "            break"
   ]
  },
  {
   "cell_type": "code",
   "execution_count": 349,
   "id": "f91fc828-5b2c-41e3-9157-7ba34731b8be",
   "metadata": {},
   "outputs": [],
   "source": [
    "gender_loss = np.concatenate((HCP_loss, CamCan_loss), axis=0)\n",
    "gender_loss = gender_loss[:,1:]"
   ]
  },
  {
   "cell_type": "code",
   "execution_count": 350,
   "id": "a3ae8ef2-a941-4ca3-960b-ba3f9ea13b4c",
   "metadata": {},
   "outputs": [],
   "source": [
    "male_loss = gender_loss[gender_loss[:,1]=='M', 0]\n",
    "female_loss = gender_loss[gender_loss[:,1]=='F', 0]"
   ]
  },
  {
   "cell_type": "code",
   "execution_count": 351,
   "id": "3943e25c-bbf3-4f8b-95d8-e71e279caad3",
   "metadata": {},
   "outputs": [
    {
     "data": {
      "image/png": "[encoded data removed]",
      "text/plain": [
       "<Figure size 576x432 with 1 Axes>"
      ]
     },
     "metadata": {
      "needs_background": "light"
     },
     "output_type": "display_data"
    }
   ],
   "source": [
    "plt.figure(figsize=(8, 6))\n",
    "\n",
    "# Boxplot\n",
    "bp = plt.boxplot([male_loss.astype(float), female_loss.astype(float)], patch_artist=True, notch=True, vert=True)\n",
    "\n",
    "# Box color and linewidth\n",
    "colors = ['lightblue', 'pink']\n",
    "for patch, color in zip(bp['boxes'], colors):\n",
    "    patch.set_facecolor(color)\n",
    "    patch.set_linewidth(2)\n",
    "\n",
    "# Outlier color and marker\n",
    "for patch in bp['fliers']:\n",
    "    patch.set(marker='o', color='black', alpha=0.5)\n",
    "\n",
    "# Y-axis label and tick labels\n",
    "plt.xticks([1, 2], ['Males', 'Females'], fontsize=16)\n",
    "plt.xlabel('', fontsize=18)\n",
    "\n",
    "# X-axis label and tick labels\n",
    "plt.yticks(fontsize=14)\n",
    "plt.ylabel('Loss Values', fontsize=18)\n",
    "\n",
    "# Title\n",
    "plt.title('Box Plot of Losses', fontsize=20);\n",
    "plt.grid(True);"
   ]
  },
  {
   "cell_type": "code",
   "execution_count": 352,
   "id": "538c7bae-a87e-4b86-87f9-d9dc1e58b825",
   "metadata": {},
   "outputs": [
    {
     "name": "stdout",
     "output_type": "stream",
     "text": [
      "T-Statistic: 6.092009846694095\n",
      "P-Value: 3.3579450422205223e-09\n"
     ]
    }
   ],
   "source": [
    "t_statistic, p_value = stats.ttest_ind(male_loss.astype(float), female_loss.astype(float), equal_var=False)\n",
    "\n",
    "# Print the results\n",
    "print(\"T-Statistic:\", t_statistic)\n",
    "print(\"P-Value:\", p_value)"
   ]
  },
  {
   "cell_type": "code",
   "execution_count": 353,
   "id": "f94d4b5f-03ec-4dd7-abbc-b3c16b5acde6",
   "metadata": {},
   "outputs": [
    {
     "name": "stdout",
     "output_type": "stream",
     "text": [
      "number of males:  580  and number of females:  656\n"
     ]
    }
   ],
   "source": [
    "trainHCP = os.listdir('/scratch1/zamzam/HCP_nt_train')\n",
    "for i in range(len(trainHCP)):\n",
    "    trainHCP[i] = trainHCP[i][:-3]\n",
    "trainCamCan = os.listdir('/scratch1/akrami/CAMCAN_nt_train')\n",
    "for i in range(len(trainCamCan)):\n",
    "    trainCamCan[i] = trainCamCan[i][:-3]\n",
    "\n",
    "for i in range(len(trainHCP)):\n",
    "    for j in range(len(HCP_info)):\n",
    "        if trainHCP[i] == HCP_info[j,0]:\n",
    "            trainHCP[i] = HCP_info[j,2]\n",
    "            break\n",
    "for i in range(len(trainCamCan)):\n",
    "    for j in range(len(CamCan_info)):\n",
    "        if trainCamCan[i][6:] == CamCan_info[j,0]:\n",
    "            trainCamCan[i] = CamCan_info[j,2]\n",
    "            break\n",
    "\n",
    "train = trainHCP + trainCamCan\n",
    "m = 0\n",
    "f = 0\n",
    "for i in range (len(train)):\n",
    "    if train[i] == 'M':\n",
    "        m+=1\n",
    "    if train[i] == 'F':\n",
    "        f+=1\n",
    "print('number of males: ', m, ' and number of females: ', f)"
   ]
  },
  {
   "cell_type": "code",
   "execution_count": null,
   "id": "64fcf6b9-59f3-4ef3-81dd-ad5e042b5443",
   "metadata": {},
   "outputs": [],
   "source": [
    "for epoch in range(1000):\n",
    "    total_loss = 0\n",
    "    for i, data in enumerate(tqdm(train_loader)):\n",
    "        \n",
    "        optimizer.zero_grad()\n",
    "        \n",
    "        T1, T2, _, _ = data\n",
    "        T1, T2 = T1.swapaxes(0,1), T2.swapaxes(0,1)\n",
    "        T1, T2 = T1.to(device), T2.to(device)\n",
    "        \n",
    "        output = model(T1)\n",
    "        \n",
    "        mse = loss(output, T2)\n",
    "        \n",
    "        mse.backward()\n",
    "        \n",
    "        optimizer.step()\n",
    "        \n",
    "        total_loss += mse\n",
    "        \n",
    "    print('  * train  ' +\n",
    "    f'Loss: {total_loss/len(train_dset):.7f}, ')\n",
    "    \n",
    "    total_loss = 0\n",
    "        \n",
    "    for i, data in enumerate(tqdm(val_loader)):\n",
    "        with torch.no_grad():\n",
    "            T1, T2, _, _ = data\n",
    "            T1, T2 = T1.swapaxes(0,1), T2.swapaxes(0,1)\n",
    "            T1, T2 = T1.to(device), T2.to(device)\n",
    "\n",
    "            output = model(T1)\n",
    "\n",
    "            mse = loss(output, T2)\n",
    "            \n",
    "            total_loss += mse\n",
    "            \n",
    "    print('  * val  ' +\n",
    "    f'Loss: {total_loss/len(val_dset):.7f}, ')"
   ]
  },
  {
   "cell_type": "code",
   "execution_count": null,
   "id": "bcc46413-f08e-44d1-bdd0-c2cde51ffac0",
   "metadata": {},
   "outputs": [],
   "source": []
  }
 ],
 "metadata": {
  "kernelspec": {
   "display_name": "Python 3.9.2",
   "language": "python",
   "name": "py392"
  },
  "language_info": {
   "codemirror_mode": {
    "name": "ipython",
    "version": 3
   },
   "file_extension": ".py",
   "mimetype": "text/x-python",
   "name": "python",
   "nbconvert_exporter": "python",
   "pygments_lexer": "ipython3",
   "version": "3.9.2"
  }
 },
 "nbformat": 4,
 "nbformat_minor": 5
}
