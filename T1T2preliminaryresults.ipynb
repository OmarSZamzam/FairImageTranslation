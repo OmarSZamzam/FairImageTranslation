{
 "cells": [
  {
   "cell_type": "code",
   "execution_count": 2,
   "id": "6dd58421-4642-43c6-a48a-ba236f4b01d3",
   "metadata": {},
   "outputs": [],
   "source": [
    "import nibabel as nib\n",
    "import io\n",
    "import os\n",
    "import random\n",
    "import math\n",
    "import numpy as np\n",
    "from skimage.transform import resize\n",
    "import glob\n",
    "import pickle\n",
    "import matplotlib.pyplot as plt\n",
    "from scipy import ndimage\n",
    "from tqdm.notebook import tqdm\n",
    "import torch\n",
    "from scipy import stats\n",
    "from monai.networks.nets import unet\n",
    "from torch.utils.data import DataLoader, Dataset\n",
    "import csv\n",
    "import pandas as pd\n",
    "\n",
    "manualSeed = 999\n",
    "random.seed(manualSeed)\n",
    "torch.manual_seed(manualSeed)\n",
    "\n",
    "device = torch.device(\"cuda\" if torch.cuda.is_available() else \"cpu\")"
   ]
  },
  {
   "cell_type": "code",
   "execution_count": 201,
   "id": "06ad580e-bb3a-4da0-8692-2b3497733fe8",
   "metadata": {},
   "outputs": [],
   "source": [
    "class CustomImageDataset(Dataset):\n",
    "    def __init__(self, img_dir, sample_number = 4, transform=None):\n",
    "        self.sample_number = sample_number\n",
    "        self.img_dir = img_dir\n",
    "        self.files = os.listdir(img_dir)\n",
    "        self.transform = transform\n",
    "\n",
    "    def __len__(self):\n",
    "        return len(self.files)\n",
    "\n",
    "    def __getitem__(self, idx):\n",
    "        img_path = os.path.join(self.img_dir, self.files[idx])\n",
    "        \n",
    "        # vol = np.load(img_path)\n",
    "        # vol = vol['data1']\n",
    "        vol = pickle.load(open(img_path, 'rb'))\n",
    "        T1, T2 = vol[0], vol[1]\n",
    "        \n",
    "        T1, T2 = T1[:, :-1, :], T2[:, :-1, :]\n",
    "        T1, T2 = resize(T1, (208, 248, 208)), resize(T2, (208, 248, 208))\n",
    "        T1, T2 = np.pad(T1, ((0,0), (4,4), (0,0)), mode='constant', constant_values=0), np.pad(T2, ((0,0), (4,4), (0,0)), mode='constant', constant_values=0)\n",
    "        \n",
    "        T1, T2 = T1.transpose((2,1,0)), T2.transpose((2,1,0))\n",
    "        \n",
    "        msk_normal = (~np.all(T1 == 0,axis=(1,2))) # Remove empty planes\n",
    "        choices = np.arange(len(msk_normal))[msk_normal]\n",
    "        \n",
    "        sample_idx = np.array(choices[0:-10:10])\n",
    "        \n",
    "        coord = sample_idx[:, np.newaxis] / T1.shape[0]\n",
    "        coord = coord - 0.5\n",
    "        \n",
    "        T1, T2 = T1[sample_idx], T2[sample_idx]\n",
    "        max_batch1, max_batch2 = T1.max(axis = 1), T2.max(axis = 1)\n",
    "        max_batch1, max_batch2 = max_batch1.max(axis = 1), max_batch2.max(axis = 1)\n",
    "        T1, T2 = T1/max_batch1.reshape((-1, 1, 1)), T2/max_batch2.reshape((-1, 1, 1))\n",
    "        T1, T2 = T1.astype(np.float32), T2.astype(np.float32)\n",
    "        \n",
    "        T1, T2 = torch.from_numpy(T1), torch.from_numpy(T2)\n",
    "        \n",
    "        return T1, T2, coord, self.files[idx]"
   ]
  },
  {
   "cell_type": "code",
   "execution_count": 202,
   "id": "96f98cdc-9e14-4036-b73a-bfe1877c11af",
   "metadata": {},
   "outputs": [],
   "source": [
    "train_dsetHCP = CustomImageDataset(img_dir='/scratch1/zamzam/HCP_nt_train')\n",
    "train_dsetCamCan = CustomImageDataset(img_dir='/scratch1/akrami/CAMCAN_nt_train')\n",
    "\n",
    "train_dset = torch.utils.data.ConcatDataset([train_dsetHCP, train_dsetCamCan])\n",
    "train_loader = DataLoader(train_dset, batch_size=1,shuffle=True,num_workers=1)\n",
    "\n",
    "val_dsetHCP = CustomImageDataset(img_dir='/scratch1/zamzam/HCP_nt_val')\n",
    "val_dsetCamCan = CustomImageDataset(img_dir='/scratch1/akrami/CAMCAN_nt_val')\n",
    "\n",
    "val_dset = torch.utils.data.ConcatDataset([val_dsetHCP, val_dsetCamCan])\n",
    "val_loader = DataLoader(val_dset, batch_size=1,shuffle=True,num_workers=1)\n",
    "\n",
    "test_dsetHCP = CustomImageDataset(img_dir='/scratch1/zamzam/HCP_nt_test')\n",
    "test_dsetCamCan = CustomImageDataset(img_dir='/scratch1/akrami/CAMCAN_nt_test')\n",
    "\n",
    "test_dset = torch.utils.data.ConcatDataset([test_dsetHCP, test_dsetCamCan])\n",
    "test_loader = DataLoader(test_dset, batch_size=1,shuffle=True,num_workers=1)"
   ]
  },
  {
   "cell_type": "code",
   "execution_count": 203,
   "id": "4e12afe7-9e7e-4605-a2ac-c3b5519c7915",
   "metadata": {},
   "outputs": [],
   "source": [
    "test_loaderHCP = DataLoader(test_dsetHCP, batch_size=1,shuffle=True,num_workers=1)\n",
    "test_loaderCamCan = DataLoader(test_dsetCamCan, batch_size=1,shuffle=True,num_workers=1)"
   ]
  },
  {
   "cell_type": "code",
   "execution_count": 204,
   "id": "7f85a7e8-8c99-4027-be71-ed9a4718b669",
   "metadata": {},
   "outputs": [],
   "source": [
    "sample = next(iter(train_loader))"
   ]
  },
  {
   "cell_type": "code",
   "execution_count": 205,
   "id": "04de1074-478d-4644-8ca6-0eb1a0c00920",
   "metadata": {},
   "outputs": [],
   "source": [
    "model = unet.UNet(\n",
    "    spatial_dims=2,\n",
    "    in_channels=1,\n",
    "    out_channels=1,\n",
    "    channels=(16, 32, 64, 128, 256),\n",
    "    strides=(2, 2, 2, 2),\n",
    "    num_res_units=3).to(device)\n",
    "\n",
    "optimizer = torch.optim.Adam(model.parameters(), 1e-4)\n",
    "loss = torch.nn.MSELoss()"
   ]
  },
  {
   "cell_type": "code",
   "execution_count": 206,
   "id": "b5122911-a2f2-4b94-ac3d-8c93502df0cb",
   "metadata": {},
   "outputs": [
    {
     "name": "stdout",
     "output_type": "stream",
     "text": [
      "2411009\n"
     ]
    }
   ],
   "source": [
    "def count_parameters(model):\n",
    "    return sum(p.numel() for p in model.parameters() if p.requires_grad)\n",
    "print(count_parameters(model))"
   ]
  },
  {
   "cell_type": "code",
   "execution_count": 207,
   "id": "c46de441-3232-4997-96e0-5482531f6e62",
   "metadata": {},
   "outputs": [],
   "source": [
    "model.load_state_dict(torch.load(\"/home1/zamzam/Fairness/models/model96.pth\"))\n",
    "model.eval();"
   ]
  },
  {
   "cell_type": "code",
   "execution_count": 208,
   "id": "597bda11-4e1d-4442-9858-0c48295baeb4",
   "metadata": {},
   "outputs": [],
   "source": [
    "with open('/scratch1/zamzam/HCP_1200.csv', 'r') as file:\n",
    "    reader = csv.reader(file)\n",
    "    next(reader)  # skip the header row\n",
    "    HCP_info = [[row[0], row[4], row[3]] for row in reader]\n",
    "HCP_info = np.array(HCP_info);"
   ]
  },
  {
   "cell_type": "code",
   "execution_count": 209,
   "id": "eddb93cb-0b25-4d46-9088-a818c9210b10",
   "metadata": {},
   "outputs": [],
   "source": [
    "df = pd.read_csv('/scratch1/zamzam/CAMCAN.csv', header=None, skiprows=1)\n",
    "CamCan_info = df.iloc[:, :3].apply(lambda x: x.str[2:] if x.name == 0 else x.str[0] if x.name == 2 else x).to_numpy()"
   ]
  },
  {
   "cell_type": "code",
   "execution_count": 210,
   "id": "ac3f6083-d297-4310-8de9-047f54dc3bf9",
   "metadata": {},
   "outputs": [
    {
     "name": "stdout",
     "output_type": "stream",
     "text": [
      "(1206, 3)\n",
      "(2681, 3)\n",
      "[['100004' '22-25' 'M']\n",
      " ['100206' '26-30' 'M']\n",
      " ['100307' '26-30' 'F']\n",
      " ...\n",
      " ['994273' '26-30' 'M']\n",
      " ['995174' '22-25' 'M']\n",
      " ['996782' '26-30' 'F']]\n",
      "[['110019' 20.25 'F']\n",
      " ['110033' 24.17 'M']\n",
      " ['110037' 18.75 'M']\n",
      " ...\n",
      " ['821078' 91.67 'F']\n",
      " ['821083' 89.75 'M']\n",
      " ['821090' 92.83 'M']]\n"
     ]
    }
   ],
   "source": [
    "print(np.shape(HCP_info))\n",
    "print(np.shape(CamCan_info))\n",
    "print(HCP_info)\n",
    "print(CamCan_info)"
   ]
  },
  {
   "cell_type": "code",
   "execution_count": 211,
   "id": "02261376-f6df-4047-9482-d2abe281a2ea",
   "metadata": {},
   "outputs": [
    {
     "data": {
      "application/json": {
       "ascii": false,
       "bar_format": null,
       "colour": null,
       "elapsed": 0.01808762550354004,
       "initial": 0,
       "n": 0,
       "ncols": null,
       "nrows": null,
       "postfix": null,
       "prefix": "",
       "rate": null,
       "total": 223,
       "unit": "it",
       "unit_divisor": 1000,
       "unit_scale": false
      },
      "application/vnd.jupyter.widget-view+json": {
       "model_id": "a0eb150d3b924a4c9bf3d35dec1cb01c",
       "version_major": 2,
       "version_minor": 0
      },
      "text/plain": [
       "  0%|          | 0/223 [00:00<?, ?it/s]"
      ]
     },
     "metadata": {},
     "output_type": "display_data"
    }
   ],
   "source": [
    "HCP_loss = []\n",
    "for i, data in enumerate(tqdm(test_loaderHCP)):\n",
    "\n",
    "\n",
    "    T1, T2, _, name = data\n",
    "    name = name[0][:-3]\n",
    "    T1, T2 = T1.swapaxes(0,1), T2.swapaxes(0,1)\n",
    "    T1, T2 = T1.to(device), T2.to(device)\n",
    "\n",
    "    output = model(T1)\n",
    "\n",
    "    mse = loss(output, T2)\n",
    "\n",
    "    HCP_loss.append([name, mse.item()])"
   ]
  },
  {
   "cell_type": "code",
   "execution_count": 212,
   "id": "0b861a5b-17d9-4ba3-8b12-32fe90bc6516",
   "metadata": {},
   "outputs": [
    {
     "data": {
      "application/json": {
       "ascii": false,
       "bar_format": null,
       "colour": null,
       "elapsed": 0.016470670700073242,
       "initial": 0,
       "n": 0,
       "ncols": null,
       "nrows": null,
       "postfix": null,
       "prefix": "",
       "rate": null,
       "total": 131,
       "unit": "it",
       "unit_divisor": 1000,
       "unit_scale": false
      },
      "application/vnd.jupyter.widget-view+json": {
       "model_id": "a9aba4158a794757b9995ab00669f0e6",
       "version_major": 2,
       "version_minor": 0
      },
      "text/plain": [
       "  0%|          | 0/131 [00:00<?, ?it/s]"
      ]
     },
     "metadata": {},
     "output_type": "display_data"
    },
    {
     "name": "stderr",
     "output_type": "stream",
     "text": [
      "/tmp/SLURM_14814340/ipykernel_3405/3393954221.py:36: RuntimeWarning: invalid value encountered in divide\n",
      "  T1, T2 = T1/max_batch1.reshape((-1, 1, 1)), T2/max_batch2.reshape((-1, 1, 1))\n"
     ]
    }
   ],
   "source": [
    "CamCan_loss = []\n",
    "for i, data in enumerate(tqdm(test_loaderCamCan)):\n",
    "\n",
    "\n",
    "    T1, T2, _, name = data\n",
    "    name = name[0][6:-3]\n",
    "    T1, T2 = T1.swapaxes(0,1), T2.swapaxes(0,1)\n",
    "    T1, T2 = T1.to(device), T2.to(device)\n",
    "\n",
    "    output = model(T1)\n",
    "\n",
    "    mse = loss(output, T2)\n",
    "\n",
    "    CamCan_loss.append([name, mse.item()])"
   ]
  },
  {
   "cell_type": "code",
   "execution_count": 230,
   "id": "c16bfeca-8c69-447b-8763-984308645a01",
   "metadata": {},
   "outputs": [
    {
     "name": "stdout",
     "output_type": "stream",
     "text": [
      "[['310385' '0.0013071830617263913' 'M']\n",
      " ['121106' '0.0013390745734795928' 'F']\n",
      " ['721729' '0.0020767890382558107' 'M']\n",
      " ['220394' '0.0012685531983152032' 'F']\n",
      " ['410040' '0.0014234359841793776' 'M']\n",
      " ['320202' '0.0012260269140824676' 'M']\n",
      " ['120313' '0.0012214783346280456' 'M']\n",
      " ['720304' '0.0019198745721951127' 'F']\n",
      " ['510220' '0.002131104003638029' 'M']\n",
      " ['220223' '0.0013216834049671888' 'M']\n",
      " ['520053' '0.0016580445226281881' 'M']\n",
      " ['721707' '0.0016109143616631627' 'F']\n",
      " ['221733' '0.0014496977673843503' 'M']\n",
      " ['510483' '0.0016478286124765873' 'F']\n",
      " ['520673' '0.0016503604128956795' 'M']\n",
      " ['221755' '0.0017381185898557305' 'M']\n",
      " ['620152' '0.0019215018255636096' 'M']\n",
      " ['321595' '0.0014713252894580364' 'F']\n",
      " ['722651' '0.0015690388390794396' 'F']\n",
      " ['710486' '0.0016407237853854895' 'F']\n",
      " ['410129' '0.0014118542894721031' 'M']\n",
      " ['320576' '0.001595393754541874' 'F']\n",
      " ['420204' '0.0011397439520806074' 'F']\n",
      " ['120061' '0.0015441511059179902' 'M']\n",
      " ['520391' '0.001873031142167747' 'F']\n",
      " ['610058' '0.0020697591826319695' 'M']\n",
      " ['210148' '0.001250918721780181' 'F']\n",
      " ['220535' '0.001213830430060625' 'M']\n",
      " ['610292' '0.0014444466214627028' 'F']\n",
      " ['220713' '0.0013304040767252445' 'F']\n",
      " ['610671' '0.0015981161268427968' 'F']\n",
      " ['321174' '0.001192528405226767' 'F']\n",
      " ['610051' '0.0015467259800061584' 'M']\n",
      " ['310142' '0.0020400688517838717' 'M']\n",
      " ['720329' '0.0016953996382653713' 'M']\n",
      " ['621080' '0.0016421161126345396' 'M']\n",
      " ['210314' '0.0012005583848804235' 'F']\n",
      " ['410121' '0.0013441125629469752' 'F']\n",
      " ['410086' '0.0016377149149775505' 'M']\n",
      " ['122172' '0.0013976640766486526' 'M']\n",
      " ['222496' '0.0013666978338733315' 'M']\n",
      " ['410032' '0.0014094881480559707' 'M']\n",
      " ['121111' '0.0014711912954226136' 'M']\n",
      " ['720103' '0.001693397993221879' 'M']\n",
      " ['220610' '0.001169070485047996' 'F']\n",
      " ['610022' '0.0014147780602797866' 'F']\n",
      " ['520247' '0.0017015155171975493' 'M']\n",
      " ['110045' '0.0010479431366547942' 'F']\n",
      " ['222125' '0.0014566312311217189' 'M']\n",
      " ['223286' '0.001629241043701768' 'M']\n",
      " ['710154' '0.002488187048584223' 'M']\n",
      " ['210422' '0.0013145831180736423' 'M']\n",
      " ['420197' '0.0014834755565971136' 'F']\n",
      " ['221209' '0.0010657241800799966' 'F']\n",
      " ['321976' '0.0010124148102477193' 'F']\n",
      " ['711158' '0.001853195601142943' 'M']\n",
      " ['620479' '0.0012304638512432575' 'M']\n",
      " ['420202' '0.0020229865331202745' 'M']\n",
      " ['610575' '0.0018405887531116605' 'F']\n",
      " ['120764' '0.0017129690386354923' 'M']\n",
      " ['420729' '0.0014663632027804852' 'F']\n",
      " ['710664' '0.0019553988240659237' 'F']\n",
      " ['222258' '0.0012283662799745798' 'F']\n",
      " ['410325' '0.0013022148050367832' 'F']\n",
      " ['210304' '0.001065567135810852' 'F']\n",
      " ['711244' '0.0018894223030656576' 'F']\n",
      " ['120347' '0.0011557096149772406' 'F']\n",
      " ['120409' '0.0017687301151454449' 'M']\n",
      " ['510609' '0.0017311522969976068' 'M']\n",
      " ['710446' '0.0019487760728225112' 'M']\n",
      " ['620429' '0.0017727258382365108' 'M']\n",
      " ['321544' '0.0014258818700909615' 'M']\n",
      " ['420198' '0.001502026105299592' 'M']\n",
      " ['221935' '0.0015001059509813786' 'M']\n",
      " ['510086' '0.0017047296278178692' 'M']\n",
      " ['510342' '0.0015483859460800886' 'F']\n",
      " ['210250' '0.001361371367238462' 'M']\n",
      " ['610061' '0.0014063955750316381' 'F']\n",
      " ['420260' '0.0011827624402940273' 'F']\n",
      " ['520083' '0.0014469670131802559' 'F']\n",
      " ['520477' '0.001557432464323938' 'M']\n",
      " ['510474' '0.001675436389632523' 'M']\n",
      " ['310135' '0.001119484892114997' 'F']\n",
      " ['620114' '0.0017779646441340446' 'M']\n",
      " ['610040' '0.0015735554043203592' 'M']\n",
      " ['510415' '0.0013596556382253766' 'F']\n",
      " ['520200' '0.0015120069729164243' 'F']\n",
      " ['510551' '0.001233495189808309' 'M']\n",
      " ['210526' '0.0014062693808227777' 'M']\n",
      " ['510161' '0.0016871037660166621' 'M']\n",
      " ['220806' '0.0012250673025846481' 'F']\n",
      " ['221031' '0.0013492291327565908' 'M']\n",
      " ['321087' '0.0011888324515894055' 'F']\n",
      " ['320616' '0.001560189644806087' 'M']\n",
      " ['610308' '0.001597492373548448' 'M']\n",
      " ['420241' '0.0018816151423379779' 'M']\n",
      " ['620885' 'nan' 'M']\n",
      " ['410432' '0.0014472379116341472' 'M']\n",
      " ['510076' '0.0015796264633536339' 'M']\n",
      " ['220828' '0.0015394749352708459' 'F']\n",
      " ['110098' '0.0013887620298191905' 'M']\n",
      " ['610462' '0.002080386970192194' 'F']\n",
      " ['721648' '0.0019733356311917305' 'F']\n",
      " ['221220' '0.0011151046492159367' 'F']\n",
      " ['320870' '0.0011327804531902075' 'F']\n",
      " ['220284' '0.0008856492349877954' 'F']\n",
      " ['620405' '0.0016785929910838604' 'F']\n",
      " ['420091' '0.0016937021864578128' 'M']\n",
      " ['610099' '0.0015849412884563208' 'F']\n",
      " ['610631' '0.0017173064406961203' 'F']\n",
      " ['710382' '0.0019334789831191301' 'M']\n",
      " ['320461' '0.0015351612819358706' 'M']\n",
      " ['610039' '0.004194970708340406' 'M']\n",
      " ['221352' '0.0010324101895093918' 'F']\n",
      " ['520097' '0.0014433454489335418' 'F']\n",
      " ['310256' '0.002187322359532118' 'M']\n",
      " ['320160' '0.001064026029780507' 'F']\n",
      " ['620129' '0.0017468257574364543' 'M']\n",
      " ['221511' '0.0015033639501780272' 'F']\n",
      " ['310391' '0.0012936507118865848' 'M']\n",
      " ['210124' '0.0011903152335435152' 'F']\n",
      " ['220518' '0.0013982539530843496' 'M']\n",
      " ['621118' '0.0019988492131233215' 'M']\n",
      " ['722421' '0.002137310802936554' 'F']\n",
      " ['620026' '0.0021396209485828876' 'F']\n",
      " ['321899' '0.0013799434527754784' 'F']\n",
      " ['620567' '0.0018531715031713247' 'M']\n",
      " ['621128' '0.0018967761425301433' 'M']\n",
      " ['220901' '0.0014286491787061095' 'F']\n",
      " ['121428' '0.0013657221570611' 'F']\n",
      " ['720986' '0.0020384981762617826' 'M']]\n"
     ]
    }
   ],
   "source": [
    "print(CamCan_loss)"
   ]
  },
  {
   "cell_type": "code",
   "execution_count": 232,
   "id": "3bf9da10-113b-4373-b644-6a64a0263219",
   "metadata": {},
   "outputs": [],
   "source": [
    "HCP_loss = np.array(HCP_loss);\n",
    "CamCan_loss = np.array(CamCan_loss);\n",
    "CamCan_loss = CamCan_loss[~np.isnan(CamCan_loss[:, 1].astype(float))]"
   ]
  },
  {
   "cell_type": "code",
   "execution_count": 233,
   "id": "55920f8d-524a-4b72-9c40-99183923278a",
   "metadata": {},
   "outputs": [
    {
     "data": {
      "image/png": "[encoded data removed]",
      "text/plain": [
       "<Figure size 576x432 with 1 Axes>"
      ]
     },
     "metadata": {
      "needs_background": "light"
     },
     "output_type": "display_data"
    }
   ],
   "source": [
    "plt.figure(figsize=(8, 6))\n",
    "\n",
    "# Boxplot\n",
    "bp = plt.boxplot([HCP_loss[:, 1].astype(float), CamCan_loss[:, 1].astype(float)], patch_artist=True, notch=True, vert=True)\n",
    "\n",
    "# Box color and linewidth\n",
    "colors = ['lightblue', 'pink']\n",
    "for patch, color in zip(bp['boxes'], colors):\n",
    "    patch.set_facecolor(color)\n",
    "    patch.set_linewidth(2)\n",
    "\n",
    "# Outlier color and marker\n",
    "for patch in bp['fliers']:\n",
    "    patch.set(marker='o', color='black', alpha=0.5)\n",
    "\n",
    "# Y-axis label and tick labels\n",
    "plt.xticks([1, 2], ['HCP', 'CamCan'], fontsize=16)\n",
    "plt.xlabel('', fontsize=18)\n",
    "\n",
    "# X-axis label and tick labels\n",
    "plt.yticks(fontsize=14)\n",
    "plt.ylabel('Loss Values', fontsize=18)\n",
    "\n",
    "# Title\n",
    "plt.title('Box Plot of Losses', fontsize=20);\n",
    "plt.grid(True)"
   ]
  },
  {
   "cell_type": "code",
   "execution_count": 234,
   "id": "8ad5d7f8-563b-4e94-8147-94b43b8398c0",
   "metadata": {},
   "outputs": [
    {
     "name": "stdout",
     "output_type": "stream",
     "text": [
      "T-Statistic: -14.979598571392696\n",
      "P-Value: 1.9990702587907743e-31\n"
     ]
    }
   ],
   "source": [
    "t_statistic, p_value = stats.ttest_ind(HCP_loss[:, 1].astype(float), CamCan_loss[:, 1].astype(float), equal_var=False)\n",
    "\n",
    "# Print the results\n",
    "print(\"T-Statistic:\", t_statistic)\n",
    "print(\"P-Value:\", p_value)"
   ]
  },
  {
   "cell_type": "code",
   "execution_count": 235,
   "id": "7b88845d-31fa-4e24-b352-76369086c712",
   "metadata": {},
   "outputs": [
    {
     "name": "stdout",
     "output_type": "stream",
     "text": [
      "number of HCP training samples:  779  and number of CamCan training samples:  457\n"
     ]
    }
   ],
   "source": [
    "trainHCP = os.listdir('/scratch1/zamzam/HCP_nt_train')\n",
    "trainCamCan = os.listdir('/scratch1/akrami/CAMCAN_nt_train')\n",
    "\n",
    "print('number of HCP training samples: ', len(trainHCP), ' and number of CamCan training samples: ', len(trainCamCan))"
   ]
  },
  {
   "cell_type": "code",
   "execution_count": 236,
   "id": "8c986c27-dd08-4d68-939f-de2107383994",
   "metadata": {},
   "outputs": [
    {
     "data": {
      "image/png": "[encoded data removed]",
      "text/plain": [
       "<Figure size 576x216 with 3 Axes>"
      ]
     },
     "metadata": {},
     "output_type": "display_data"
    }
   ],
   "source": [
    "s = next(iter(test_loaderHCP))\n",
    "T1, T2, _, _ = s\n",
    "T1, T2 = T1.swapaxes(0,1), T2.swapaxes(0,1)\n",
    "T1, T2 = T1.to(device), T2.to(device)\n",
    "\n",
    "model.load_state_dict(torch.load(\"/home1/zamzam/Fairness/models/model96.pth\"))\n",
    "output = model(T1)\n",
    "\n",
    "\n",
    "\n",
    "fig, axes = plt.subplots(ncols=3, figsize=(8, 3))\n",
    "fig.suptitle('HCP', fontsize=16)\n",
    "\n",
    "# plot each image on a subplot with a title\n",
    "axes[0].imshow(T1[2][0].cpu(), cmap='gray')\n",
    "axes[0].set_title('Input (T1)')\n",
    "axes[1].imshow(T2[2][0].cpu(), cmap='gray')\n",
    "axes[1].set_title('Groundtruth (T2)')\n",
    "axes[2].imshow(output[2][0].cpu().detach().numpy(), cmap='gray')\n",
    "axes[2].set_title('Image 3')\n",
    "\n",
    "# remove the axis ticks and labels\n",
    "for ax in axes:\n",
    "    ax.set_xticks([])\n",
    "    ax.set_yticks([])\n",
    "    ax.set_xticklabels([])\n",
    "    ax.set_yticklabels([])\n",
    "\n",
    "# adjust the layout\n",
    "plt.tight_layout()\n",
    "\n",
    "# show the plot\n",
    "plt.show()"
   ]
  },
  {
   "cell_type": "code",
   "execution_count": 237,
   "id": "7ed86f31-caca-4866-9be6-bcd88601aeae",
   "metadata": {},
   "outputs": [
    {
     "data": {
      "image/png": "[encoded data removed]",
      "text/plain": [
       "<Figure size 576x216 with 3 Axes>"
      ]
     },
     "metadata": {},
     "output_type": "display_data"
    }
   ],
   "source": [
    "s = next(iter(test_loaderCamCan))\n",
    "T1, T2, _, _ = s\n",
    "T1, T2 = T1.swapaxes(0,1), T2.swapaxes(0,1)\n",
    "T1, T2 = T1.to(device), T2.to(device)\n",
    "\n",
    "model.load_state_dict(torch.load(\"/home1/zamzam/Fairness/models/model96.pth\"))\n",
    "output = model(T1)\n",
    "\n",
    "\n",
    "\n",
    "fig, axes = plt.subplots(ncols=3, figsize=(8, 3))\n",
    "fig.suptitle('CAMCAN', fontsize=16)\n",
    "\n",
    "# plot each image on a subplot with a title\n",
    "axes[0].imshow(T1[2][0].cpu(), cmap='gray')\n",
    "axes[0].set_title('Input (T1)')\n",
    "axes[1].imshow(T2[2][0].cpu(), cmap='gray')\n",
    "axes[1].set_title('Groundtruth (T2)')\n",
    "axes[2].imshow(output[2][0].cpu().detach().numpy(), cmap='gray')\n",
    "axes[2].set_title('Image 3')\n",
    "\n",
    "# remove the axis ticks and labels\n",
    "for ax in axes:\n",
    "    ax.set_xticks([])\n",
    "    ax.set_yticks([])\n",
    "    ax.set_xticklabels([])\n",
    "    ax.set_yticklabels([])\n",
    "\n",
    "# adjust the layout\n",
    "plt.tight_layout()\n",
    "\n",
    "# show the plot\n",
    "plt.show()"
   ]
  },
  {
   "cell_type": "code",
   "execution_count": 238,
   "id": "ab2a55e2-eba6-42f6-9317-23c89f1913be",
   "metadata": {},
   "outputs": [],
   "source": [
    "HCP_loss = np.hstack((HCP_loss, np.empty((len(HCP_loss), 1), dtype='U1')))\n",
    "for i in range(len(HCP_loss)):\n",
    "    for j in range(len(HCP_info)):\n",
    "        if HCP_loss[i, 0] == HCP_info[j, 0]:\n",
    "            HCP_loss[i, 2] = HCP_info[j, 2]\n",
    "            break\n",
    "            \n",
    "CamCan_loss = np.hstack((CamCan_loss, np.empty((len(CamCan_loss), 1), dtype='U1')))\n",
    "for i in range(len(CamCan_loss)):\n",
    "    for j in range(len(CamCan_info)):\n",
    "        if CamCan_loss[i, 0] == CamCan_info[j, 0]:\n",
    "            CamCan_loss[i, 2] = CamCan_info[j, 2]\n",
    "            break"
   ]
  },
  {
   "cell_type": "code",
   "execution_count": 239,
   "id": "f91fc828-5b2c-41e3-9157-7ba34731b8be",
   "metadata": {},
   "outputs": [],
   "source": [
    "gender_loss = np.concatenate((HCP_loss, CamCan_loss), axis=0)\n",
    "gender_loss = gender_loss[:,1:]"
   ]
  },
  {
   "cell_type": "code",
   "execution_count": 240,
   "id": "a3ae8ef2-a941-4ca3-960b-ba3f9ea13b4c",
   "metadata": {},
   "outputs": [],
   "source": [
    "male_loss = gender_loss[gender_loss[:,1]=='M', 0]\n",
    "female_loss = gender_loss[gender_loss[:,1]=='F', 0]"
   ]
  },
  {
   "cell_type": "code",
   "execution_count": 241,
   "id": "3943e25c-bbf3-4f8b-95d8-e71e279caad3",
   "metadata": {},
   "outputs": [
    {
     "data": {
      "image/png": "[encoded data removed]",
      "text/plain": [
       "<Figure size 576x432 with 1 Axes>"
      ]
     },
     "metadata": {
      "needs_background": "light"
     },
     "output_type": "display_data"
    }
   ],
   "source": [
    "plt.figure(figsize=(8, 6))\n",
    "\n",
    "# Boxplot\n",
    "bp = plt.boxplot([male_loss.astype(float), female_loss.astype(float)], patch_artist=True, notch=True, vert=True)\n",
    "\n",
    "# Box color and linewidth\n",
    "colors = ['lightblue', 'pink']\n",
    "for patch, color in zip(bp['boxes'], colors):\n",
    "    patch.set_facecolor(color)\n",
    "    patch.set_linewidth(2)\n",
    "\n",
    "# Outlier color and marker\n",
    "for patch in bp['fliers']:\n",
    "    patch.set(marker='o', color='black', alpha=0.5)\n",
    "\n",
    "# Y-axis label and tick labels\n",
    "plt.xticks([1, 2], ['Males', 'Females'], fontsize=16)\n",
    "plt.xlabel('', fontsize=18)\n",
    "\n",
    "# X-axis label and tick labels\n",
    "plt.yticks(fontsize=14)\n",
    "plt.ylabel('Loss Values', fontsize=18)\n",
    "\n",
    "# Title\n",
    "plt.title('Box Plot of Losses', fontsize=20);\n",
    "plt.grid(True);"
   ]
  },
  {
   "cell_type": "code",
   "execution_count": 242,
   "id": "538c7bae-a87e-4b86-87f9-d9dc1e58b825",
   "metadata": {},
   "outputs": [
    {
     "name": "stdout",
     "output_type": "stream",
     "text": [
      "T-Statistic: 6.166676359702112\n",
      "P-Value: 2.2183992824064237e-09\n"
     ]
    }
   ],
   "source": [
    "t_statistic, p_value = stats.ttest_ind(male_loss.astype(float), female_loss.astype(float), equal_var=False)\n",
    "\n",
    "# Print the results\n",
    "print(\"T-Statistic:\", t_statistic)\n",
    "print(\"P-Value:\", p_value)"
   ]
  },
  {
   "cell_type": "code",
   "execution_count": 224,
   "id": "f94d4b5f-03ec-4dd7-abbc-b3c16b5acde6",
   "metadata": {},
   "outputs": [
    {
     "name": "stdout",
     "output_type": "stream",
     "text": [
      "number of males:  580  and number of females:  656\n"
     ]
    }
   ],
   "source": [
    "trainHCP = os.listdir('/scratch1/zamzam/HCP_nt_train')\n",
    "for i in range(len(trainHCP)):\n",
    "    trainHCP[i] = trainHCP[i][:-3]\n",
    "trainCamCan = os.listdir('/scratch1/akrami/CAMCAN_nt_train')\n",
    "for i in range(len(trainCamCan)):\n",
    "    trainCamCan[i] = trainCamCan[i][:-3]\n",
    "\n",
    "for i in range(len(trainHCP)):\n",
    "    for j in range(len(HCP_info)):\n",
    "        if trainHCP[i] == HCP_info[j,0]:\n",
    "            trainHCP[i] = HCP_info[j,2]\n",
    "            break\n",
    "for i in range(len(trainCamCan)):\n",
    "    for j in range(len(CamCan_info)):\n",
    "        if trainCamCan[i][6:] == CamCan_info[j,0]:\n",
    "            trainCamCan[i] = CamCan_info[j,2]\n",
    "            break\n",
    "\n",
    "train = trainHCP + trainCamCan\n",
    "m = 0\n",
    "f = 0\n",
    "for i in range (len(train)):\n",
    "    if train[i] == 'M':\n",
    "        m+=1\n",
    "    if train[i] == 'F':\n",
    "        f+=1\n",
    "print('number of males: ', m, ' and number of females: ', f)"
   ]
  },
  {
   "cell_type": "code",
   "execution_count": null,
   "id": "64fcf6b9-59f3-4ef3-81dd-ad5e042b5443",
   "metadata": {},
   "outputs": [],
   "source": [
    "for epoch in range(1000):\n",
    "    total_loss = 0\n",
    "    for i, data in enumerate(tqdm(train_loader)):\n",
    "        \n",
    "        optimizer.zero_grad()\n",
    "        \n",
    "        T1, T2, _, _ = data\n",
    "        T1, T2 = T1.swapaxes(0,1), T2.swapaxes(0,1)\n",
    "        T1, T2 = T1.to(device), T2.to(device)\n",
    "        \n",
    "        output = model(T1)\n",
    "        \n",
    "        mse = loss(output, T2)\n",
    "        \n",
    "        mse.backward()\n",
    "        \n",
    "        optimizer.step()\n",
    "        \n",
    "        total_loss += mse\n",
    "        \n",
    "    print('  * train  ' +\n",
    "    f'Loss: {total_loss/len(train_dset):.7f}, ')\n",
    "    \n",
    "    total_loss = 0\n",
    "        \n",
    "    for i, data in enumerate(tqdm(val_loader)):\n",
    "        with torch.no_grad():\n",
    "            T1, T2, _, _ = data\n",
    "            T1, T2 = T1.swapaxes(0,1), T2.swapaxes(0,1)\n",
    "            T1, T2 = T1.to(device), T2.to(device)\n",
    "\n",
    "            output = model(T1)\n",
    "\n",
    "            mse = loss(output, T2)\n",
    "            \n",
    "            total_loss += mse\n",
    "            \n",
    "    print('  * val  ' +\n",
    "    f'Loss: {total_loss/len(val_dset):.7f}, ')"
   ]
  },
  {
   "cell_type": "code",
   "execution_count": null,
   "id": "bcc46413-f08e-44d1-bdd0-c2cde51ffac0",
   "metadata": {},
   "outputs": [],
   "source": []
  }
 ],
 "metadata": {
  "kernelspec": {
   "display_name": "Python 3.9.2",
   "language": "python",
   "name": "py392"
  },
  "language_info": {
   "codemirror_mode": {
    "name": "ipython",
    "version": 3
   },
   "file_extension": ".py",
   "mimetype": "text/x-python",
   "name": "python",
   "nbconvert_exporter": "python",
   "pygments_lexer": "ipython3",
   "version": "3.9.2"
  }
 },
 "nbformat": 4,
 "nbformat_minor": 5
}
